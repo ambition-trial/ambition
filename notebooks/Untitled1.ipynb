{
 "cells": [
  {
   "cell_type": "markdown",
   "metadata": {},
   "source": [
    "Setup"
   ]
  },
  {
   "cell_type": "code",
   "execution_count": null,
   "metadata": {},
   "outputs": [],
   "source": [
    "sudo apt-get update\n",
    "sudo apt-get upgrade\n",
    "sudo apt-get -y install mysql-server libmysqlclient-dev \\\n",
    "&& libcups2-dev python3-pip python3-dev \\\n",
    "&& python3-venv ipython python3-cups\n",
    "\n",
    "cd ~/ \\\n",
    "&& git clone https://github.com/ambition-trial/ambition.git app\n",
    "\n",
    "python3 -m venv ~/.venvs/ambition \\\n",
    "&& source ~/.venvs/ambition/bin/activate\n",
    "\n",
    "cd ~/app \\\n",
    "&& pip install -r requirements/stable.txt\n",
    "&& pip install -e .\n",
    "\n",
    "# copy .env to your installation\n",
    "# assumed coming from your machine\n",
    "# from the project folder ...\n",
    "scp .envs/local.yml erikvw@edc2.clinicedc.org:~/app/.env\n",
    "\n",
    "# etc\n",
    "# copy mysql\n",
    "    \n",
    "python manage.py check\n",
    "python manage.py migrate\n",
    "python manage.py import_holidays\n",
    "python manage.py import_randomization_list\n",
    "\n",
    "\n"
   ]
  }
 ],
 "metadata": {
  "kernelspec": {
   "display_name": "Django Shell-Plus",
   "language": "python",
   "name": "django_extensions"
  },
  "language_info": {
   "codemirror_mode": {
    "name": "ipython",
    "version": 3
   },
   "file_extension": ".py",
   "mimetype": "text/x-python",
   "name": "python",
   "nbconvert_exporter": "python",
   "pygments_lexer": "ipython3",
   "version": "3.7.0"
  }
 },
 "nbformat": 4,
 "nbformat_minor": 2
}
