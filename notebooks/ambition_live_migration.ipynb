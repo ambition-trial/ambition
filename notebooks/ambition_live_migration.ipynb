{
 "cells": [
  {
   "cell_type": "markdown",
   "metadata": {},
   "source": [
    "Update ambition live DB"
   ]
  },
  {
   "cell_type": "code",
   "execution_count": null,
   "metadata": {},
   "outputs": [],
   "source": [
    "# update lab profile name\n",
    "from edc_lab.models import Panel\n",
    "Panel.objects.update(lab_profile_name='subject_lab_profile')"
   ]
  },
  {
   "cell_type": "markdown",
   "metadata": {},
   "source": [
    "makemigrations for all modules"
   ]
  },
  {
   "cell_type": "code",
   "execution_count": null,
   "metadata": {},
   "outputs": [],
   "source": [
    "python manage.py makemigrations"
   ]
  },
  {
   "cell_type": "markdown",
   "metadata": {},
   "source": [
    "The ``userprofile`` table is now in edc_auth. edc_auth has one migration for this table. Copy the same table from edc_base and fake the edc_auth migration."
   ]
  },
  {
   "cell_type": "code",
   "execution_count": null,
   "metadata": {},
   "outputs": [],
   "source": [
    "# copy the table structure\n",
    "CREATE TABLE edc_auth_userprofile LIKE edc_base_userprofile; \n",
    "# copy the table data\n",
    "INSERT edc_auth_userprofile SELECT * FROM edc_base_userprofile;"
   ]
  },
  {
   "cell_type": "markdown",
   "metadata": {},
   "source": [
    "migrate edc modules"
   ]
  },
  {
   "cell_type": "markdown",
   "metadata": {},
   "source": [
    "fix ambition_subject migration history"
   ]
  },
  {
   "cell_type": "code",
   "execution_count": null,
   "metadata": {},
   "outputs": [],
   "source": [
    "# delete ambition_subject migration history after \n",
    "python manage.py showmigrations ambition_subject\n",
    "\"\"\"\n",
    "ambition_subject\n",
    " [X] 0001_initial\n",
    " [X] 0002_auto_20180119_1312\n",
    " [X] 0003_auto_20180121_1456\n",
    " [X] 0004_auto_20180123_2352\n",
    " [X] 0005_auto_20180129_0908\n",
    " [X] 0006_auto_20180227_0953\n",
    " [X] 0007_auto_20180227_1004\n",
    " [X] 0008_auto_20180409_1213\n",
    " [X] 0009_auto_20180409_1806\n",
    " [X] 0010_auto_20180512_1248  (# id = 152)\n",
    " [X] 0011...\n",
    " [X] 0012...\n",
    " [X] 0013...\n",
    " [X] 0014...\n",
    " [X] 0015... \n",
    " \"\"\"\n",
    "\n",
    "mysql -u root -p ambition_live -Bse \"delete from django_migrations where app='ambition_subject' and id>152;\"\n",
    "\n",
    "# now, fake 0011-0013 (these apply changes already in the schema)\n",
    "python manage.py migrate ambition_subject 0011 --fake \n",
    "python manage.py migrate ambition_subject 0012 --fake \n",
    "python manage.py migrate ambition_subject 0013 --fake \n",
    "# migrate 0014 (this is for edc_action changes)\n",
    "python manage.py migrate ambition_subject 0014\n"
   ]
  },
  {
   "cell_type": "markdown",
   "metadata": {},
   "source": [
    "fake ambition_screening 0002 migration"
   ]
  },
  {
   "cell_type": "code",
   "execution_count": null,
   "metadata": {},
   "outputs": [],
   "source": [
    "python manage.py showmigrations ambition_screening\n",
    "\"\"\"\n",
    "ambition_screening\n",
    " [X] 0001_initial\n",
    " [ ] 0002_auto_20180706_1519\n",
    " \"\"\"\n",
    "python manage.py migrate ambition_screening 0002_auto_20180706_1519 --fake"
   ]
  },
  {
   "cell_type": "markdown",
   "metadata": {},
   "source": [
    "Migrate the rest safely"
   ]
  },
  {
   "cell_type": "code",
   "execution_count": null,
   "metadata": {},
   "outputs": [],
   "source": [
    "python manage.py migrate"
   ]
  },
  {
   "cell_type": "markdown",
   "metadata": {},
   "source": [
    "Or do one by one as follows:"
   ]
  },
  {
   "cell_type": "code",
   "execution_count": null,
   "metadata": {},
   "outputs": [],
   "source": [
    "# migrate edc modules\n",
    "python manage.py migrate edc_action_item\n",
    "python manage.py migrate edc_lab\n",
    "python manage.py migrate edc_locator\n",
    "python manage.py migrate django_collect_offline\n",
    "python manage.py migrate django_collect_offline_files"
   ]
  },
  {
   "cell_type": "code",
   "execution_count": null,
   "metadata": {},
   "outputs": [],
   "source": [
    "# ambition_rando\n",
    "python manage.py showmigrations ambition_rando\n",
    "\n",
    "\"\"\"\n",
    "ambition_rando\n",
    " [X] 0001_initial\n",
    " [ ] 0002_auto_20180706_1519\n",
    "\"\"\"\n",
    "python manage.py migrate ambition_rando"
   ]
  },
  {
   "cell_type": "code",
   "execution_count": null,
   "metadata": {},
   "outputs": [],
   "source": [
    "# ambition_prn\n",
    "python manage.py showmigrations ambition_prn\n",
    "\n",
    "\"\"\"\n",
    "ambition_prn\n",
    " [X] 0001_initial\n",
    " [X] 0002_auto_20180119_1312\n",
    " [X] 0003_auto_20180121_1411\n",
    " [X] 0004_auto_20180409_1213\n",
    " [ ] 0005_auto_20180708_0925\n",
    "\"\"\"\n",
    "python manage.py migrate ambition_prn"
   ]
  },
  {
   "cell_type": "code",
   "execution_count": null,
   "metadata": {},
   "outputs": [],
   "source": [
    "# ambition_export\n",
    "python manage.py showmigrations ambition_export\n",
    "\n",
    "\n",
    "ambition_export\n",
    " [X] 0001_initial\n",
    " [X] 0002_auto_20180327_1743\n",
    " [X] 0003_auto_20180330_2112\n",
    " [ ] 0004_auto_20180706_1519\n",
    "\n",
    "python manage.py migrate ambition_export"
   ]
  },
  {
   "cell_type": "code",
   "execution_count": null,
   "metadata": {},
   "outputs": [],
   "source": [
    "# ambition_ae\n",
    "python manage.py showmigrations ambition_ae\n",
    "\n",
    "\"\"\"\n",
    "ambition_ae\n",
    " [X] 0001_initial\n",
    " [X] 0002_auto_20180409_1213\n",
    " [ ] 0003_auto_20180707_2155\n",
    "\"\"\"\n",
    "\n",
    "python manage.py migrate ambition_ae"
   ]
  }
 ],
 "metadata": {
  "kernelspec": {
   "display_name": "Django Shell-Plus",
   "language": "python",
   "name": "django_extensions"
  },
  "language_info": {
   "codemirror_mode": {
    "name": "ipython",
    "version": 3
   },
   "file_extension": ".py",
   "mimetype": "text/x-python",
   "name": "python",
   "nbconvert_exporter": "python",
   "pygments_lexer": "ipython3",
   "version": "3.7.0"
  }
 },
 "nbformat": 4,
 "nbformat_minor": 2
}
