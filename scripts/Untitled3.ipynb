{
 "cells": [
  {
   "cell_type": "code",
   "execution_count": null,
   "metadata": {},
   "outputs": [],
   "source": [
    "# create VERSION\n",
    "# edit setup.py VERSION, README.rst\n",
    "\n",
    "\"\"\"\n",
    "with open(os.path.join(os.path.dirname(__file__), 'VERSION')) as f:\n",
    "    VERSION = f.read()\n",
    "\n",
    "    version=VERSION,\n",
    "\n",
    "        'Environment :: Web Environment',\n",
    "        'Framework :: Django',\n",
    "        'Intended Audience :: Developers',\n",
    "        'Intended Audience :: Science/Research',\n",
    "        'License :: OSI Approved :: GNU General Public License v3 (GPLv3)',\n",
    "        'Operating System :: OS Independent',\n",
    "        'Programming Language :: Python :: 3.6',\n",
    "        'Programming Language :: Python :: 3.7',\n",
    "        'Topic :: Internet :: WWW/HTTP',\n",
    "        'Topic :: Internet :: WWW/HTTP :: Dynamic Content',\n",
    "\"\"\"\n",
    "# fix README.md -> README.rst\n",
    "\n",
    "flake8\n",
    "python manage.py test\n",
    "git status\n",
    "git add -A && git commit -m \"update setup files, flake8\" && git push\n",
    "\n",
    "cat VERSION\n",
    "export VERSION = \n",
    "# increment version, create release\n",
    "git flow release start\n",
    "\n",
    "# bump\n",
    "nano VERSION\n",
    "git add -A && git commit -m \"bump version -> \n",
    "git flow release finish \n",
    "\n",
    "git push --tags && git push && git checkout master && git push --tags && git push\n",
    "\n",
    "python setup.py bdist bdist_wheel && twine upload dist/*\n",
    "git checkout develop\n",
    "\n",
    "\n"
   ]
  }
 ],
 "metadata": {
  "kernelspec": {
   "display_name": "Python 3",
   "language": "python",
   "name": "python3"
  },
  "language_info": {
   "codemirror_mode": {
    "name": "ipython",
    "version": 3
   },
   "file_extension": ".py",
   "mimetype": "text/x-python",
   "name": "python",
   "nbconvert_exporter": "python",
   "pygments_lexer": "ipython3",
   "version": "3.7.0"
  }
 },
 "nbformat": 4,
 "nbformat_minor": 2
}
