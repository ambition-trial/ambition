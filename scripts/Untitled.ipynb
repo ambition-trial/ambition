{
 "cells": [
  {
   "cell_type": "markdown",
   "metadata": {},
   "source": [
    "Update ambition live DB"
   ]
  },
  {
   "cell_type": "code",
   "execution_count": null,
   "metadata": {},
   "outputs": [],
   "source": [
    "# update lab profile name\n",
    "from edc_lab.models import Panel\n",
    "Panel.objects.update(lab_profile_name='subject_lab_profile')"
   ]
  },
  {
   "cell_type": "code",
   "execution_count": null,
   "metadata": {},
   "outputs": [],
   "source": [
    "# delete ambition_subject migration history after \n",
    "\"\"\"\n",
    "python manage.py showmigrations ambition_subject\n",
    "ambition_subject\n",
    " [X] 0001_initial\n",
    " [X] 0002_auto_20180119_1312\n",
    " [X] 0003_auto_20180121_1456\n",
    " [X] 0004_auto_20180123_2352\n",
    " [X] 0005_auto_20180129_0908\n",
    " [X] 0006_auto_20180227_0953\n",
    " [X] 0007_auto_20180227_1004\n",
    " [X] 0008_auto_20180409_1213\n",
    " [X] 0009_auto_20180409_1806\n",
    " [X] 0010_auto_20180512_1248\n",
    " ...\n",
    " \"\"\"\n",
    "\n",
    "mysql -u root -p ambition_live -Bse \"delete from django_migrations where app='ambition_subject' and id>152;\"\n"
   ]
  },
  {
   "cell_type": "code",
   "execution_count": null,
   "metadata": {},
   "outputs": [],
   "source": [
    "# migrate to 0011 (this is for edc_action changes)\n",
    "python manage.py migrate ambition_subject 0011 --fake \n",
    "python manage.py migrate ambition_subject 0012 --fake \n",
    "python manage.py migrate ambition_subject 0013 --fake \n",
    "# fake the rest (these apply changes already in the schema)\n",
    "python manage.py migrate ambition_subject\n"
   ]
  }
 ],
 "metadata": {
  "kernelspec": {
   "display_name": "Django Shell-Plus",
   "language": "python",
   "name": "django_extensions"
  },
  "language_info": {
   "codemirror_mode": {
    "name": "ipython",
    "version": 3
   },
   "file_extension": ".py",
   "mimetype": "text/x-python",
   "name": "python",
   "nbconvert_exporter": "python",
   "pygments_lexer": "ipython3",
   "version": "3.7.0"
  }
 },
 "nbformat": 4,
 "nbformat_minor": 2
}
